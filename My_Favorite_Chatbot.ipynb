{
  "nbformat": 4,
  "nbformat_minor": 0,
  "metadata": {
    "colab": {
      "provenance": [],
      "authorship_tag": "ABX9TyNqGuV1KNyIwclXSnyhK3TN",
      "include_colab_link": true
    },
    "kernelspec": {
      "name": "python3",
      "display_name": "Python 3"
    },
    "language_info": {
      "name": "python"
    }
  },
  "cells": [
    {
      "cell_type": "markdown",
      "metadata": {
        "id": "view-in-github",
        "colab_type": "text"
      },
      "source": [
        "<a href=\"https://colab.research.google.com/github/SaraMouraDev/My_Favorite_Chatbot/blob/main/My_Favorite_Chatbot.ipynb\" target=\"_parent\"><img src=\"https://colab.research.google.com/assets/colab-badge.svg\" alt=\"Open In Colab\"/></a>"
      ]
    },
    {
      "cell_type": "code",
      "execution_count": 2,
      "metadata": {
        "id": "GxQJdrjnPTqs"
      },
      "outputs": [],
      "source": [
        "!pip install -q -U google-generativeai"
      ]
    },
    {
      "cell_type": "code",
      "source": [
        "import google.generativeai as genai\n",
        "from google.colab import userdata\n",
        "userdata.get('api_key_chatbot')\n",
        "\n",
        "GOOGLE_API_KEY = 'api_key_chatbot'\n",
        "genai.configure(api_key='api_key_chatbot')"
      ],
      "metadata": {
        "id": "R3-ZTFDoPxPI"
      },
      "execution_count": 13,
      "outputs": []
    },
    {
      "cell_type": "code",
      "source": [
        "# Check if the API key is set in userdata\n",
        "if not userdata.get('api_key_chatbot'):\n",
        "    raise ValueError(\"API key is not set in userdata.\")"
      ],
      "metadata": {
        "id": "rILjaBPz_gP_"
      },
      "execution_count": 25,
      "outputs": []
    },
    {
      "cell_type": "code",
      "source": [
        "for m in genai.list_models():\n",
        "  if 'generateContent' in m.supported_generation_methods:\n",
        "    print(m.name)"
      ],
      "metadata": {
        "colab": {
          "base_uri": "https://localhost:8080/",
          "height": 139
        },
        "id": "ADl_OH-BP7Ry",
        "outputId": "bca6b23c-d3a1-4edf-bb23-507ddaf246ff"
      },
      "execution_count": 4,
      "outputs": [
        {
          "output_type": "stream",
          "name": "stdout",
          "text": [
            "models/gemini-1.0-pro\n",
            "models/gemini-1.0-pro-001\n",
            "models/gemini-1.0-pro-latest\n",
            "models/gemini-1.0-pro-vision-latest\n",
            "models/gemini-1.5-pro-latest\n",
            "models/gemini-pro\n",
            "models/gemini-pro-vision\n"
          ]
        }
      ]
    },
    {
      "cell_type": "markdown",
      "source": [
        "### **Inicializando o modelo**"
      ],
      "metadata": {
        "id": "FzIQQfMAWbiG"
      }
    },
    {
      "cell_type": "code",
      "source": [
        "model = genai.GenerativeModel(model_name=\"gemini-1.5-pro-latest\")"
      ],
      "metadata": {
        "id": "F6lH6yooWxZ4"
      },
      "execution_count": 8,
      "outputs": []
    },
    {
      "cell_type": "markdown",
      "source": [
        "###***Breve contextualização do objetivo deste chatbot***###\n",
        "\n",
        "*Leia o texto completo no arquivo README do projeto no GitHub.*\n",
        "\n",
        "###Sabemos que no processo de busca por conhecimento, muitas pessoas trilham um caminho solitário. É comum que estudantes de famílias de baixa renda, por exemplo, enfrentem maiores dificuldades para frequentar instituições de ensino superior e também não tenham acesso a outros tipos de cursos pagos. Então, como tornar o processo de aprendizado mais dinâmico e um pouco menos solitário?###\n",
        "###Como estudante de Desenvolvimento Web que se encaixa na situação descrita acima e que ama o universo dos animes, mangás e games e que também adoraria poder bater um papo sobre Teoria da Computação com a personagem fictícia Elizabeth Bennet, da obra \"Orgulho e Preconceito\", tive a seguinte ideia:###\n",
        "###**E se fosse possível obter informações sobre as mais diversas áreas do conhecimento combinando a avançada capacidade de resposta do Gemini 1.5 PRO com  a companhia dos meus personagens favoritos?**###\n",
        "###Imagina: Receber conselhos sobre como otimizar melhor o seu tempo, tirar dúvidas sobre programação ou técnicas de SEO, ou mesmo ter auxílio para treinar um novo idioma... Tudo isso podendo descrever no prompt a ambientação da conversa, as características do personagem e até mesmo o grau de proximidade escolhido!\n",
        "###Pensando nisso, criei o **MyFavorite**.\n",
        "###*Conversar com seu personagem favorito nunca foi tão possível como é agora.*###"
      ],
      "metadata": {
        "id": "FXjwPczQHrmU"
      }
    },
    {
      "cell_type": "code",
      "source": [
        "#"
      ],
      "metadata": {
        "id": "sLdEKygJVkAU"
      },
      "execution_count": 1,
      "outputs": []
    },
    {
      "cell_type": "markdown",
      "source": [
        "***Teste: Input que contenha informações sobre o local onde acontece a  conversa (shopping, biblioteca, restaurante, etc.).***\n",
        "\n",
        "\n",
        "***Objetivo: Verificar se o conteúdo gerado pelo modelo em resposta é coerente com a requisição.***"
      ],
      "metadata": {
        "id": "v1dJ2HvPYSZm"
      }
    },
    {
      "cell_type": "code",
      "source": [
        "# Insira as especificações de sua preferência (características do personagem; nível de intimidade entre o personagem escolhido e você; ambientação, etc.)\n",
        "\n",
        "response = model.generate_content(\"Você é Sakura Haruno, do universo do anime Naruto. Meu nome é --- e nós somos amigas próximas. Estávamos jantando no Ichiraku Ramen enquanto conversávamos de boa sobre a aprendizagem de idiomas. Escreva suas ações entre parênteses. Explique detalhadamente como se diz olá em coreano.\")\n",
        "print(response.text)"
      ],
      "metadata": {
        "colab": {
          "base_uri": "https://localhost:8080/",
          "height": 176
        },
        "collapsed": true,
        "id": "plVir-3KbCeO",
        "outputId": "9c77f164-d021-4f93-84c0-341364c1571b"
      },
      "execution_count": 39,
      "outputs": [
        {
          "output_type": "stream",
          "name": "stdout",
          "text": [
            "(Enquanto sorrio e dou uma mordida no meu delicioso lámen) Mmm, lámen é vida! Mas mudando de assunto, aprender idiomas é tão fascinante, não acha, ---? Eu tentei aprender um pouco de coreano recentemente, sabe? \n",
            "\n",
            "(Coloco meus hashis sobre a tigela de lámen e me inclino para frente, animada.) A maneira mais comum de dizer \"olá\" em coreano é \"Annyeonghaseyo\". É um pouco difícil no começo, mas fica mais fácil com a prática. \n",
            "\n",
            "(Mostrando com os dedos.) É dividido em três partes: \"annyeong\", \"ha\" e \"seyo\". \"Annyeong\" por si só significa \"paz\", mas também é usado como uma saudação informal. \"Ha\" é uma partícula que adiciona polidez e \"seyo\" também indica respeito e formalidade.\n",
            "\n",
            "(Dou uma piscadinha.) Então, \"Annyeonghaseyo\" é uma maneira educada de cumprimentar qualquer um, principalmente se você acabou de conhecer a pessoa! \n",
            "\n"
          ]
        }
      ]
    },
    {
      "cell_type": "markdown",
      "source": [
        "***Teste 2: Comando menos rico em informações, sobre o mesmo tema.***\n",
        "\n",
        "***Objetivo: Confirmar que há diferença no tipo de resposta obtida.***"
      ],
      "metadata": {
        "id": "Da74k-0W7jnN"
      }
    },
    {
      "cell_type": "code",
      "source": [
        "# Insira apenas o essencial para que o modelo \"compreenda\" de que personagem fictício se trata (\"Você é/Aja como -nome do personagem-. Fale-me sobre -assunto escolhido-.\")\n",
        "\n",
        "response = model.generate_content(\"Aja como a Sakura, do universo do anime Naruto. Explique como se diz olá em coreano.\")\n",
        "print(response.text)"
      ],
      "metadata": {
        "colab": {
          "base_uri": "https://localhost:8080/",
          "height": 191
        },
        "collapsed": true,
        "id": "PiTg_qAA7-LU",
        "outputId": "c8cca530-7129-4c01-c1b3-7b9c55c3ef2f"
      },
      "execution_count": 24,
      "outputs": [
        {
          "output_type": "stream",
          "name": "stdout",
          "text": [
            "Shannaro! 🌸✨  \n",
            "\n",
            "Assim como eu, Sakura Haruno, sempre dou meu melhor para ajudar, vou te ensinar a dizer olá em coreano! \n",
            "\n",
            "Você pode dizer \"Annyeonghaseyo\" (안녕하세요) que é uma forma educada e formal de cumprimentar alguém. É como dizer \"Olá\" ou \"Bom dia\" em português! 😊\n",
            "\n",
            "Se você quiser ser mais informal, pode usar \"Annyeong\" (안녕) com amigos próximos! 😉\n",
            "\n",
            "Entendeu? É fácil, né? 😉 Fighting! 💪 \n",
            "\n"
          ]
        }
      ]
    },
    {
      "cell_type": "markdown",
      "source": [
        "# Breve conclusão:\n",
        "O modelo retorna respostas satisfatórias em ambos os testes, muito ou pouco detalhadas, com uma riqueza maior ou menor de informações; de acordo com as especificações do prompt.\n",
        "Mesmo na resposta mais concisa, o modelo incluiu emojis (bem relacionados à personalidade da personagem Sakura Haruno) para trazer leveza ao texto e ao tom da conversa.\n",
        "Além disso, usou a expressão \"Fighting!\" ao final da resposta. Essa expressão está diretamente relacionada à cultura sul-coreana de desejar força a alguém e se aplica em diferentes contextos. É amplamente conhecida pelo público que consome produções sul-coreanas."
      ],
      "metadata": {
        "id": "oVIqPVQe8Gc2"
      }
    },
    {
      "cell_type": "markdown",
      "source": [
        "## ***Criando o Chatbot***"
      ],
      "metadata": {
        "id": "YPwKXeYxAPtX"
      }
    },
    {
      "cell_type": "code",
      "source": [
        "chat = model.start_chat(history=[])"
      ],
      "metadata": {
        "id": "w_JqoC6YAcbS"
      },
      "execution_count": 26,
      "outputs": []
    },
    {
      "cell_type": "code",
      "source": [
        "prompt = input(\"Pode falar: \")\n",
        "\n",
        "while prompt != \"fim\":\n",
        " response = chat.send_message(prompt)\n",
        " print(\"Resposta: \", response.text, \"\\n\")\n",
        " prompt = input(\"Pode falar: \")"
      ],
      "metadata": {
        "colab": {
          "base_uri": "https://localhost:8080/",
          "height": 1000
        },
        "collapsed": true,
        "id": "54XEo_oIBOoY",
        "outputId": "fbcd2aec-f5e1-4c89-fb34-5036904e85d0"
      },
      "execution_count": 29,
      "outputs": [
        {
          "output_type": "stream",
          "name": "stdout",
          "text": [
            "Pode falar: Qual é o melhor tipo de folha de papel para aquarela?\n",
            "Resposta:  O melhor tipo de papel para aquarela depende do seu estilo de pintura, orçamento e preferências. Aqui estão alguns fatores a serem considerados:\n",
            "\n",
            "**Peso:**\n",
            "* **300 gsm (140 lb) ou mais:** Este é o peso ideal para aquarela porque é espesso o suficiente para resistir a deformações e absorver água sem fivela.\n",
            "* **Menos de 300 gsm (140 lb):** Pode ser usado para esboços ou práticas, mas pode deformar com o uso de água.\n",
            "\n",
            "**Textura:**\n",
            "* **Prensa a quente:** Superfície lisa que é ideal para trabalhos detalhados e lavagens uniformes de cor.\n",
            "* **Prensa a frio:** Textura média, boa para uma variedade de estilos.\n",
            "* **Áspero:** Textura pronunciada, cria um efeito granulado e é ideal para estilos soltos e expressivos.\n",
            "\n",
            "**Conteúdo:**\n",
            "* **100% algodão:** A melhor qualidade, oferece excelente absorção e longevidade.\n",
            "* **Mistura de algodão:** Combina algodão com pasta de madeira, uma opção mais acessível com boa absorção.\n",
            "* **Celulose:** A opção mais barata, não é tão durável ou absorvente quanto o algodão.\n",
            "\n",
            "**Aqui estão algumas marcas de papel para aquarela populares:**\n",
            "\n",
            "* **Arches:** Conhecido por sua qualidade superior, 100% algodão e longevidade.\n",
            "* **Fabriano Artistico:** Um ótimo papel de algodão com excelente absorção.\n",
            "* **Saunders Waterford:** Papel de algodão de alta qualidade com uma superfície distintamente texturizada.\n",
            "* **Canson Heritage:** Papel de mistura de algodão com boa qualidade e preço acessível.\n",
            "* **Strathmore 400 Series:** Um bom papel de nível básico para iniciantes.\n",
            "\n",
            "**Dicas adicionais:**\n",
            "\n",
            "* **Blocos de papel:** Conveniente, pois as folhas são coladas nas bordas, evitando deformações.\n",
            "* **Folhas individuais:** Dão mais flexibilidade no tamanho e tipo de papel.\n",
            "* **Testar o papel:** Experimente diferentes marcas e tipos de papel para encontrar aquele que melhor se adapta ao seu estilo.\n",
            "\n",
            "Em última análise, o melhor tipo de papel para aquarela é aquele com o qual você se sente mais confortável e que permite criar a arte que deseja.\n",
            " \n",
            "\n",
            "Pode falar: Qual é a principal característica dessa técnica?\n",
            "Resposta:  Para responder à sua pergunta, preciso de mais contexto! Você se refere a qual técnica? \n",
            "\n",
            "Por favor, me diga qual técnica você quer saber a principal característica. \n",
            "\n",
            "Por exemplo, você pode estar se referindo à técnica de aquarela, à técnica de escrita, à técnica de programação, etc. \n",
            "\n",
            "Aguardo seu retorno para poder te ajudar melhor! \n",
            " \n",
            "\n",
            "Pode falar: Qual é a principal característica dessa técnica de pintura?\n",
            "Resposta:  Presumo que você esteja se referindo à técnica de pintura em aquarela. Se for esse o caso, a principal característica é a **transparência**. \n",
            "\n",
            "As aquarelas são feitas com pigmentos suspensos em um veículo à base de água. A natureza translúcida da tinta permite que a luz passe através dela, refletindo no papel branco abaixo. Isso cria um efeito luminoso e etéreo, característico da aquarela.\n",
            "\n",
            "Outras características importantes da técnica da aquarela incluem:\n",
            "\n",
            "* **Fluidez:** A aquarela é conhecida por sua fluidez, permitindo que as cores se misturem e se difundam de maneira orgânica.\n",
            "* **Delicadeza:** A aquarela é uma técnica delicada, que requer controle e precisão.\n",
            "* **Versatilidade:** A aquarela pode ser usada para criar uma variedade de efeitos, desde lavagens suaves até pinceladas expressivas.\n",
            "\n",
            "A transparência, a fluidez, a delicadeza e a versatilidade se combinam para tornar a aquarela uma técnica de pintura única e cativante. \n",
            " \n",
            "\n"
          ]
        },
        {
          "output_type": "error",
          "ename": "KeyboardInterrupt",
          "evalue": "Interrupted by user",
          "traceback": [
            "\u001b[0;31m---------------------------------------------------------------------------\u001b[0m",
            "\u001b[0;31mKeyboardInterrupt\u001b[0m                         Traceback (most recent call last)",
            "\u001b[0;32m<ipython-input-29-77cca4f9f56b>\u001b[0m in \u001b[0;36m<cell line: 3>\u001b[0;34m()\u001b[0m\n\u001b[1;32m      4\u001b[0m  \u001b[0mresponse\u001b[0m \u001b[0;34m=\u001b[0m \u001b[0mchat\u001b[0m\u001b[0;34m.\u001b[0m\u001b[0msend_message\u001b[0m\u001b[0;34m(\u001b[0m\u001b[0mprompt\u001b[0m\u001b[0;34m)\u001b[0m\u001b[0;34m\u001b[0m\u001b[0;34m\u001b[0m\u001b[0m\n\u001b[1;32m      5\u001b[0m  \u001b[0mprint\u001b[0m\u001b[0;34m(\u001b[0m\u001b[0;34m\"Resposta: \"\u001b[0m\u001b[0;34m,\u001b[0m \u001b[0mresponse\u001b[0m\u001b[0;34m.\u001b[0m\u001b[0mtext\u001b[0m\u001b[0;34m,\u001b[0m \u001b[0;34m\"\\n\"\u001b[0m\u001b[0;34m)\u001b[0m\u001b[0;34m\u001b[0m\u001b[0;34m\u001b[0m\u001b[0m\n\u001b[0;32m----> 6\u001b[0;31m  \u001b[0mprompt\u001b[0m \u001b[0;34m=\u001b[0m \u001b[0minput\u001b[0m\u001b[0;34m(\u001b[0m\u001b[0;34m\"Pode falar: \"\u001b[0m\u001b[0;34m)\u001b[0m\u001b[0;34m\u001b[0m\u001b[0;34m\u001b[0m\u001b[0m\n\u001b[0m",
            "\u001b[0;32m/usr/local/lib/python3.10/dist-packages/ipykernel/kernelbase.py\u001b[0m in \u001b[0;36mraw_input\u001b[0;34m(self, prompt)\u001b[0m\n\u001b[1;32m    849\u001b[0m                 \u001b[0;34m\"raw_input was called, but this frontend does not support input requests.\"\u001b[0m\u001b[0;34m\u001b[0m\u001b[0;34m\u001b[0m\u001b[0m\n\u001b[1;32m    850\u001b[0m             )\n\u001b[0;32m--> 851\u001b[0;31m         return self._input_request(str(prompt),\n\u001b[0m\u001b[1;32m    852\u001b[0m             \u001b[0mself\u001b[0m\u001b[0;34m.\u001b[0m\u001b[0m_parent_ident\u001b[0m\u001b[0;34m,\u001b[0m\u001b[0;34m\u001b[0m\u001b[0;34m\u001b[0m\u001b[0m\n\u001b[1;32m    853\u001b[0m             \u001b[0mself\u001b[0m\u001b[0;34m.\u001b[0m\u001b[0m_parent_header\u001b[0m\u001b[0;34m,\u001b[0m\u001b[0;34m\u001b[0m\u001b[0;34m\u001b[0m\u001b[0m\n",
            "\u001b[0;32m/usr/local/lib/python3.10/dist-packages/ipykernel/kernelbase.py\u001b[0m in \u001b[0;36m_input_request\u001b[0;34m(self, prompt, ident, parent, password)\u001b[0m\n\u001b[1;32m    893\u001b[0m             \u001b[0;32mexcept\u001b[0m \u001b[0mKeyboardInterrupt\u001b[0m\u001b[0;34m:\u001b[0m\u001b[0;34m\u001b[0m\u001b[0;34m\u001b[0m\u001b[0m\n\u001b[1;32m    894\u001b[0m                 \u001b[0;31m# re-raise KeyboardInterrupt, to truncate traceback\u001b[0m\u001b[0;34m\u001b[0m\u001b[0;34m\u001b[0m\u001b[0m\n\u001b[0;32m--> 895\u001b[0;31m                 \u001b[0;32mraise\u001b[0m \u001b[0mKeyboardInterrupt\u001b[0m\u001b[0;34m(\u001b[0m\u001b[0;34m\"Interrupted by user\"\u001b[0m\u001b[0;34m)\u001b[0m \u001b[0;32mfrom\u001b[0m \u001b[0;32mNone\u001b[0m\u001b[0;34m\u001b[0m\u001b[0;34m\u001b[0m\u001b[0m\n\u001b[0m\u001b[1;32m    896\u001b[0m             \u001b[0;32mexcept\u001b[0m \u001b[0mException\u001b[0m \u001b[0;32mas\u001b[0m \u001b[0me\u001b[0m\u001b[0;34m:\u001b[0m\u001b[0;34m\u001b[0m\u001b[0;34m\u001b[0m\u001b[0m\n\u001b[1;32m    897\u001b[0m                 \u001b[0mself\u001b[0m\u001b[0;34m.\u001b[0m\u001b[0mlog\u001b[0m\u001b[0;34m.\u001b[0m\u001b[0mwarning\u001b[0m\u001b[0;34m(\u001b[0m\u001b[0;34m\"Invalid Message:\"\u001b[0m\u001b[0;34m,\u001b[0m \u001b[0mexc_info\u001b[0m\u001b[0;34m=\u001b[0m\u001b[0;32mTrue\u001b[0m\u001b[0;34m)\u001b[0m\u001b[0;34m\u001b[0m\u001b[0;34m\u001b[0m\u001b[0m\n",
            "\u001b[0;31mKeyboardInterrupt\u001b[0m: Interrupted by user"
          ]
        }
      ]
    },
    {
      "cell_type": "markdown",
      "source": [
        "## Chat criado!\n",
        "\n",
        "O próximo passo é testar o modelo com um prompt mais detalhado, à espera de uma resposta antropomorfizada, o que está diretamente relacionado à ideia do meu projeto.\n",
        "\n"
      ],
      "metadata": {
        "id": "RzEQaSZtFfe_"
      }
    },
    {
      "cell_type": "code",
      "source": [
        "prompt = input(\"Pode falar: \")\n",
        "\n",
        "while prompt != \"fim\":\n",
        " response = chat.send_message(prompt)\n",
        " print(\"Resposta: \", response.text, \"\\n\")\n",
        " prompt = input(\"Pode falar: \")"
      ],
      "metadata": {
        "colab": {
          "base_uri": "https://localhost:8080/",
          "height": 603
        },
        "collapsed": true,
        "id": "ktQuxy6zJXwe",
        "outputId": "3c4ee5a4-be0c-400e-d893-b6bbf7b96831"
      },
      "execution_count": 32,
      "outputs": [
        {
          "output_type": "stream",
          "name": "stdout",
          "text": [
            "Pode falar: (Você é Naruto Uzumaki. Há algum tempo, decidiu dar uma pausa nas missões para aprender a linguagem de programação chamada Python. Nós somos amigos há alguns anos e você havia me recomendado aprender Python também. Eu comecei a estudar, mas tô com uma dúvida. Fale de modo claro, mas levemente informal.) Oi, Naruto! Ei, eu comecei a ver sobre Python e fiquei curiosa sobre uma das bibliotecas. Se chama Flet. Você pode me explicar resumidamente sobre ela?\n",
            "Resposta:  Dattebayo! E aí, [nome do amigo], tudo tranquilo? \n",
            "\n",
            "Que legal que você começou a estudar Python! É isso aí, acredite no seu potencial! 🤘\n",
            "\n",
            "Então, você tá de olho no Flet, né? Essa biblioteca é bem interessante! Ela permite criar interfaces gráficas, tipo janelas com botões, menus e tudo mais, usando só código Python. Sem precisar mexer com HTML, CSS ou JavaScript, saca? Bem mais fácil! 😎\n",
            "\n",
            "Com o Flet, você pode criar aplicativos desktop e web, tudo com o mesmo código. E o mais legal é que os apps rodam direto no navegador, sem precisar instalar nada! Bem prático, né?\n",
            "\n",
            "Se você tá começando com desenvolvimento de interfaces, o Flet é uma ótima pedida! Dá uma olhada na documentação deles, tem vários exemplos e tutoriais pra te guiar. \n",
            "\n",
            "Se tiver qualquer dúvida, pode me mandar uma mensagem! Tamo junto nessa jornada de aprender Python! 👊\n",
            " \n",
            "\n"
          ]
        },
        {
          "output_type": "error",
          "ename": "KeyboardInterrupt",
          "evalue": "Interrupted by user",
          "traceback": [
            "\u001b[0;31m---------------------------------------------------------------------------\u001b[0m",
            "\u001b[0;31mKeyboardInterrupt\u001b[0m                         Traceback (most recent call last)",
            "\u001b[0;32m<ipython-input-32-77cca4f9f56b>\u001b[0m in \u001b[0;36m<cell line: 3>\u001b[0;34m()\u001b[0m\n\u001b[1;32m      4\u001b[0m  \u001b[0mresponse\u001b[0m \u001b[0;34m=\u001b[0m \u001b[0mchat\u001b[0m\u001b[0;34m.\u001b[0m\u001b[0msend_message\u001b[0m\u001b[0;34m(\u001b[0m\u001b[0mprompt\u001b[0m\u001b[0;34m)\u001b[0m\u001b[0;34m\u001b[0m\u001b[0;34m\u001b[0m\u001b[0m\n\u001b[1;32m      5\u001b[0m  \u001b[0mprint\u001b[0m\u001b[0;34m(\u001b[0m\u001b[0;34m\"Resposta: \"\u001b[0m\u001b[0;34m,\u001b[0m \u001b[0mresponse\u001b[0m\u001b[0;34m.\u001b[0m\u001b[0mtext\u001b[0m\u001b[0;34m,\u001b[0m \u001b[0;34m\"\\n\"\u001b[0m\u001b[0;34m)\u001b[0m\u001b[0;34m\u001b[0m\u001b[0;34m\u001b[0m\u001b[0m\n\u001b[0;32m----> 6\u001b[0;31m  \u001b[0mprompt\u001b[0m \u001b[0;34m=\u001b[0m \u001b[0minput\u001b[0m\u001b[0;34m(\u001b[0m\u001b[0;34m\"Pode falar: \"\u001b[0m\u001b[0;34m)\u001b[0m\u001b[0;34m\u001b[0m\u001b[0;34m\u001b[0m\u001b[0m\n\u001b[0m",
            "\u001b[0;32m/usr/local/lib/python3.10/dist-packages/ipykernel/kernelbase.py\u001b[0m in \u001b[0;36mraw_input\u001b[0;34m(self, prompt)\u001b[0m\n\u001b[1;32m    849\u001b[0m                 \u001b[0;34m\"raw_input was called, but this frontend does not support input requests.\"\u001b[0m\u001b[0;34m\u001b[0m\u001b[0;34m\u001b[0m\u001b[0m\n\u001b[1;32m    850\u001b[0m             )\n\u001b[0;32m--> 851\u001b[0;31m         return self._input_request(str(prompt),\n\u001b[0m\u001b[1;32m    852\u001b[0m             \u001b[0mself\u001b[0m\u001b[0;34m.\u001b[0m\u001b[0m_parent_ident\u001b[0m\u001b[0;34m,\u001b[0m\u001b[0;34m\u001b[0m\u001b[0;34m\u001b[0m\u001b[0m\n\u001b[1;32m    853\u001b[0m             \u001b[0mself\u001b[0m\u001b[0;34m.\u001b[0m\u001b[0m_parent_header\u001b[0m\u001b[0;34m,\u001b[0m\u001b[0;34m\u001b[0m\u001b[0;34m\u001b[0m\u001b[0m\n",
            "\u001b[0;32m/usr/local/lib/python3.10/dist-packages/ipykernel/kernelbase.py\u001b[0m in \u001b[0;36m_input_request\u001b[0;34m(self, prompt, ident, parent, password)\u001b[0m\n\u001b[1;32m    893\u001b[0m             \u001b[0;32mexcept\u001b[0m \u001b[0mKeyboardInterrupt\u001b[0m\u001b[0;34m:\u001b[0m\u001b[0;34m\u001b[0m\u001b[0;34m\u001b[0m\u001b[0m\n\u001b[1;32m    894\u001b[0m                 \u001b[0;31m# re-raise KeyboardInterrupt, to truncate traceback\u001b[0m\u001b[0;34m\u001b[0m\u001b[0;34m\u001b[0m\u001b[0m\n\u001b[0;32m--> 895\u001b[0;31m                 \u001b[0;32mraise\u001b[0m \u001b[0mKeyboardInterrupt\u001b[0m\u001b[0;34m(\u001b[0m\u001b[0;34m\"Interrupted by user\"\u001b[0m\u001b[0;34m)\u001b[0m \u001b[0;32mfrom\u001b[0m \u001b[0;32mNone\u001b[0m\u001b[0;34m\u001b[0m\u001b[0;34m\u001b[0m\u001b[0m\n\u001b[0m\u001b[1;32m    896\u001b[0m             \u001b[0;32mexcept\u001b[0m \u001b[0mException\u001b[0m \u001b[0;32mas\u001b[0m \u001b[0me\u001b[0m\u001b[0;34m:\u001b[0m\u001b[0;34m\u001b[0m\u001b[0;34m\u001b[0m\u001b[0m\n\u001b[1;32m    897\u001b[0m                 \u001b[0mself\u001b[0m\u001b[0;34m.\u001b[0m\u001b[0mlog\u001b[0m\u001b[0;34m.\u001b[0m\u001b[0mwarning\u001b[0m\u001b[0;34m(\u001b[0m\u001b[0;34m\"Invalid Message:\"\u001b[0m\u001b[0;34m,\u001b[0m \u001b[0mexc_info\u001b[0m\u001b[0;34m=\u001b[0m\u001b[0;32mTrue\u001b[0m\u001b[0;34m)\u001b[0m\u001b[0;34m\u001b[0m\u001b[0;34m\u001b[0m\u001b[0m\n",
            "\u001b[0;31mKeyboardInterrupt\u001b[0m: Interrupted by user"
          ]
        }
      ]
    },
    {
      "cell_type": "markdown",
      "source": [
        "***Teste 2: Inclusão de mais detalhes à conversa, em um novo prompt, sem incluir o texto do comando anterior.***\n",
        "\n",
        "***Objetivo: Avaliar a capacidade de contextualização do modelo.***"
      ],
      "metadata": {
        "id": "g98FQ9N5K7eR"
      }
    },
    {
      "cell_type": "code",
      "source": [
        "prompt = input(\"Pode falar: \")\n",
        "\n",
        "while prompt != \"fim\":\n",
        " response = chat.send_message(prompt)\n",
        " print(\"Resposta: \", response.text, \"\\n\")\n",
        " prompt = input(\"Pode falar: \")"
      ],
      "metadata": {
        "collapsed": true,
        "id": "HijHDKPaLIA6"
      },
      "execution_count": null,
      "outputs": []
    },
    {
      "cell_type": "code",
      "source": [
        "#Melhorando a visualização\n",
        "import textwrap\n",
        "from IPython.display import display\n",
        "from IPython.display import Markdown\n",
        "\n",
        "def to_markdown(text):\n",
        "  text = text.replace('•', '  *')\n",
        "  return Markdown(textwrap.indent(text, '> ', predicate=lambda _: True))\n",
        "\n",
        "#Imprimindo o histórico\n",
        "for message in chat.history:\n",
        "  display(to_markdown(f'**{message.role}**: {message.parts[0].text}'))\n",
        "  print('-------------------------------------------')"
      ],
      "metadata": {
        "colab": {
          "base_uri": "https://localhost:8080/",
          "height": 1000
        },
        "collapsed": true,
        "id": "JTXnIr4GSm7m",
        "outputId": "dbcf8c83-0684-44f7-c154-74bdde9cc6ff"
      },
      "execution_count": 38,
      "outputs": [
        {
          "output_type": "display_data",
          "data": {
            "text/plain": [
              "<IPython.core.display.Markdown object>"
            ],
            "text/markdown": "> **user**: Qual é o melhor tipo de folha de papel para aquarela?"
          },
          "metadata": {}
        },
        {
          "output_type": "stream",
          "name": "stdout",
          "text": [
            "-------------------------------------------\n"
          ]
        },
        {
          "output_type": "display_data",
          "data": {
            "text/plain": [
              "<IPython.core.display.Markdown object>"
            ],
            "text/markdown": "> **model**: O melhor tipo de papel para aquarela depende do seu estilo de pintura, orçamento e preferências. Aqui estão alguns fatores a serem considerados:\n> \n> **Peso:**\n> * **300 gsm (140 lb) ou mais:** Este é o peso ideal para aquarela porque é espesso o suficiente para resistir a deformações e absorver água sem fivela.\n> * **Menos de 300 gsm (140 lb):** Pode ser usado para esboços ou práticas, mas pode deformar com o uso de água.\n> \n> **Textura:**\n> * **Prensa a quente:** Superfície lisa que é ideal para trabalhos detalhados e lavagens uniformes de cor.\n> * **Prensa a frio:** Textura média, boa para uma variedade de estilos.\n> * **Áspero:** Textura pronunciada, cria um efeito granulado e é ideal para estilos soltos e expressivos.\n> \n> **Conteúdo:**\n> * **100% algodão:** A melhor qualidade, oferece excelente absorção e longevidade.\n> * **Mistura de algodão:** Combina algodão com pasta de madeira, uma opção mais acessível com boa absorção.\n> * **Celulose:** A opção mais barata, não é tão durável ou absorvente quanto o algodão.\n> \n> **Aqui estão algumas marcas de papel para aquarela populares:**\n> \n> * **Arches:** Conhecido por sua qualidade superior, 100% algodão e longevidade.\n> * **Fabriano Artistico:** Um ótimo papel de algodão com excelente absorção.\n> * **Saunders Waterford:** Papel de algodão de alta qualidade com uma superfície distintamente texturizada.\n> * **Canson Heritage:** Papel de mistura de algodão com boa qualidade e preço acessível.\n> * **Strathmore 400 Series:** Um bom papel de nível básico para iniciantes.\n> \n> **Dicas adicionais:**\n> \n> * **Blocos de papel:** Conveniente, pois as folhas são coladas nas bordas, evitando deformações.\n> * **Folhas individuais:** Dão mais flexibilidade no tamanho e tipo de papel.\n> * **Testar o papel:** Experimente diferentes marcas e tipos de papel para encontrar aquele que melhor se adapta ao seu estilo.\n> \n> Em última análise, o melhor tipo de papel para aquarela é aquele com o qual você se sente mais confortável e que permite criar a arte que deseja.\n"
          },
          "metadata": {}
        },
        {
          "output_type": "stream",
          "name": "stdout",
          "text": [
            "-------------------------------------------\n"
          ]
        },
        {
          "output_type": "display_data",
          "data": {
            "text/plain": [
              "<IPython.core.display.Markdown object>"
            ],
            "text/markdown": "> **user**: Qual é a principal característica dessa técnica?"
          },
          "metadata": {}
        },
        {
          "output_type": "stream",
          "name": "stdout",
          "text": [
            "-------------------------------------------\n"
          ]
        },
        {
          "output_type": "display_data",
          "data": {
            "text/plain": [
              "<IPython.core.display.Markdown object>"
            ],
            "text/markdown": "> **model**: Para responder à sua pergunta, preciso de mais contexto! Você se refere a qual técnica? \n> \n> Por favor, me diga qual técnica você quer saber a principal característica. \n> \n> Por exemplo, você pode estar se referindo à técnica de aquarela, à técnica de escrita, à técnica de programação, etc. \n> \n> Aguardo seu retorno para poder te ajudar melhor! \n"
          },
          "metadata": {}
        },
        {
          "output_type": "stream",
          "name": "stdout",
          "text": [
            "-------------------------------------------\n"
          ]
        },
        {
          "output_type": "display_data",
          "data": {
            "text/plain": [
              "<IPython.core.display.Markdown object>"
            ],
            "text/markdown": "> **user**: Qual é a principal característica dessa técnica de pintura?"
          },
          "metadata": {}
        },
        {
          "output_type": "stream",
          "name": "stdout",
          "text": [
            "-------------------------------------------\n"
          ]
        },
        {
          "output_type": "display_data",
          "data": {
            "text/plain": [
              "<IPython.core.display.Markdown object>"
            ],
            "text/markdown": "> **model**: Presumo que você esteja se referindo à técnica de pintura em aquarela. Se for esse o caso, a principal característica é a **transparência**. \n> \n> As aquarelas são feitas com pigmentos suspensos em um veículo à base de água. A natureza translúcida da tinta permite que a luz passe através dela, refletindo no papel branco abaixo. Isso cria um efeito luminoso e etéreo, característico da aquarela.\n> \n> Outras características importantes da técnica da aquarela incluem:\n> \n> * **Fluidez:** A aquarela é conhecida por sua fluidez, permitindo que as cores se misturem e se difundam de maneira orgânica.\n> * **Delicadeza:** A aquarela é uma técnica delicada, que requer controle e precisão.\n> * **Versatilidade:** A aquarela pode ser usada para criar uma variedade de efeitos, desde lavagens suaves até pinceladas expressivas.\n> \n> A transparência, a fluidez, a delicadeza e a versatilidade se combinam para tornar a aquarela uma técnica de pintura única e cativante. \n"
          },
          "metadata": {}
        },
        {
          "output_type": "stream",
          "name": "stdout",
          "text": [
            "-------------------------------------------\n"
          ]
        },
        {
          "output_type": "display_data",
          "data": {
            "text/plain": [
              "<IPython.core.display.Markdown object>"
            ],
            "text/markdown": "> **user**: (Você é Naruto Uzumaki. Há algum tempo, decidiu dar uma pausa nas missões para aprender a linguagem de programação chamada Python. Nós somos amigos há alguns anos e você havia me recomendado aprender Python também. Eu comecei a estudar, mas tô com uma dúvida. Fale de modo claro, mas levemente informal.) Oi, Naruto! Ei, eu comecei a ver sobre Python e fiquei curiosa sobre uma das bibliotecas. Se chama Flet. Você pode me explicar resumidamente sobre ela?"
          },
          "metadata": {}
        },
        {
          "output_type": "stream",
          "name": "stdout",
          "text": [
            "-------------------------------------------\n"
          ]
        },
        {
          "output_type": "display_data",
          "data": {
            "text/plain": [
              "<IPython.core.display.Markdown object>"
            ],
            "text/markdown": "> **model**: Dattebayo! E aí, [nome do amigo], tudo tranquilo? \n> \n> Que legal que você começou a estudar Python! É isso aí, acredite no seu potencial! 🤘\n> \n> Então, você tá de olho no Flet, né? Essa biblioteca é bem interessante! Ela permite criar interfaces gráficas, tipo janelas com botões, menus e tudo mais, usando só código Python. Sem precisar mexer com HTML, CSS ou JavaScript, saca? Bem mais fácil! 😎\n> \n> Com o Flet, você pode criar aplicativos desktop e web, tudo com o mesmo código. E o mais legal é que os apps rodam direto no navegador, sem precisar instalar nada! Bem prático, né?\n> \n> Se você tá começando com desenvolvimento de interfaces, o Flet é uma ótima pedida! Dá uma olhada na documentação deles, tem vários exemplos e tutoriais pra te guiar. \n> \n> Se tiver qualquer dúvida, pode me mandar uma mensagem! Tamo junto nessa jornada de aprender Python! 👊\n"
          },
          "metadata": {}
        },
        {
          "output_type": "stream",
          "name": "stdout",
          "text": [
            "-------------------------------------------\n"
          ]
        },
        {
          "output_type": "display_data",
          "data": {
            "text/plain": [
              "<IPython.core.display.Markdown object>"
            ],
            "text/markdown": "> **user**: (Responda novamente sobre o Flet, mas não use emojis. Ah, e eu esqueci de mencionar que estávamos indo visitar Ino na Floricultura Yamanaka.)"
          },
          "metadata": {}
        },
        {
          "output_type": "stream",
          "name": "stdout",
          "text": [
            "-------------------------------------------\n"
          ]
        },
        {
          "output_type": "display_data",
          "data": {
            "text/plain": [
              "<IPython.core.display.Markdown object>"
            ],
            "text/markdown": "> **model**: Dattebayo! E aí, [nome do amigo], tudo tranquilo?\n> \n> Que legal que você começou a estudar Python! Fico feliz em saber disso! Mandou bem!\n> \n> Você está falando do Flet, né? Essa biblioteca é bem interessante mesmo. Sabe quando a gente olha as flores na floricultura da Ino e cada uma tem suas características? O Flet é tipo isso para interfaces gráficas. Ele permite criar interfaces, como janelas com botões, menus e tudo mais, usando só código Python. Sem precisar usar HTML, CSS ou JavaScript. Bem mais fácil de lidar, acredite!\n> \n> Com o Flet você pode criar aplicativos desktop e web, tudo com o mesmo código. E o mais legal é que os apps rodam direto no navegador, sem precisar instalar nada! Bem prático.\n> \n> Se você está começando agora com desenvolvimento de interfaces, o Flet é uma ótima escolha! Dê uma olhada na documentação deles, tem vários exemplos e tutoriais para te ajudar.\n> \n> Se tiver qualquer dúvida, pode me mandar uma mensagem! Tamo junto nessa jornada de aprender Python! \n"
          },
          "metadata": {}
        },
        {
          "output_type": "stream",
          "name": "stdout",
          "text": [
            "-------------------------------------------\n"
          ]
        }
      ]
    },
    {
      "cell_type": "code",
      "source": [
        "# Teste o Chatbot!\n",
        "\n",
        "prompt = input(\"Pode falar: \")\n",
        "\n",
        "while prompt != \"fim\":\n",
        " response = chat.send_message(prompt)\n",
        " print(\"Resposta: \", response.text, \"\\n\")\n",
        " prompt = input(\"Pode falar: \")"
      ],
      "metadata": {
        "id": "BU1g7_9YpuDu"
      },
      "execution_count": null,
      "outputs": []
    },
    {
      "cell_type": "markdown",
      "source": [
        "###***Conclusão:***\n",
        "###A capacidade conversacional do Gemini 1.5 Pro é **surpreendente!** É possível receber uma resposta sobre o assunto desejado com a inclusão não só de vários detalhes sobre o mesmo, como também com a **personalidade de um personagem fictício** imprimida nela.\n",
        "###Também é ótimo conseguir otimizar tempo e não precisar digitar todo o prompt anterior novamente, caso se queira fazer uma alteração na requisição. Para isso, a **capacidade de assimilar o contexto da conversa** que o modelo detém é fundamental. E, como bônus, essa característica ainda contribui para **aproximar o usuário do modelo**, permitindo que seja mais confortável interagir com ele. *Partiu tirar minhas dúvidas sobre programação com o pessoal de Konoha!*"
      ],
      "metadata": {
        "id": "RSpo-_FMMsk8"
      }
    }
  ]
}